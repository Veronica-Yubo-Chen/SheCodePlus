{
 "cells": [
  {
   "cell_type": "code",
   "execution_count": 2,
   "id": "06e8211b",
   "metadata": {},
   "outputs": [
    {
     "name": "stdout",
     "output_type": "stream",
     "text": [
      "First number is: 1\n"
     ]
    }
   ],
   "source": [
    "first_number = int(input(\"Enter first number: \"))\n",
    "print(\"First number is:\", first_number)"
   ]
  },
  {
   "cell_type": "code",
   "execution_count": null,
   "id": "272f9396",
   "metadata": {},
   "outputs": [],
   "source": [
    "user_input = float(input(\"How many kilometers? \"))\n",
    "miles = user_input * 0.621371\n",
    "meters = int(user_input * 1000)\n",
    "centimeters = int(user_input * 100000)\n",
    "print(f\"{user_input} km = {miles} miles\")\n",
    "print(f\"{user_input} km = {meters} meters\")\n",
    "print(f\"{user_input} km = {centimeters} centimeters\")"
   ]
  },
  {
   "cell_type": "code",
   "execution_count": null,
   "id": "b87f5a64",
   "metadata": {},
   "outputs": [],
   "source": []
  }
 ],
 "metadata": {
  "kernelspec": {
   "display_name": "base",
   "language": "python",
   "name": "python3"
  },
  "language_info": {
   "codemirror_mode": {
    "name": "ipython",
    "version": 3
   },
   "file_extension": ".py",
   "mimetype": "text/x-python",
   "name": "python",
   "nbconvert_exporter": "python",
   "pygments_lexer": "ipython3",
   "version": "3.13.7"
  }
 },
 "nbformat": 4,
 "nbformat_minor": 5
}
